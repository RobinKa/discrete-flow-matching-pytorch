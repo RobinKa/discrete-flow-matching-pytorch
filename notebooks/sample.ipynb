{
 "cells": [
  {
   "cell_type": "code",
   "execution_count": 1,
   "metadata": {},
   "outputs": [],
   "source": [
    "%load_ext autoreload\n",
    "%autoreload 2"
   ]
  },
  {
   "cell_type": "code",
   "execution_count": 2,
   "metadata": {},
   "outputs": [],
   "source": [
    "import sys\n",
    "\n",
    "sys.path.append(\"..\")"
   ]
  },
  {
   "cell_type": "code",
   "execution_count": null,
   "metadata": {},
   "outputs": [],
   "source": [
    "import lightning.pytorch as pl\n",
    "import torch\n",
    "import torch._dynamo.cache_size\n",
    "from transformers import AutoTokenizer\n",
    "\n",
    "from discrete_flow_matching.model import DiscreteFlowMatchingNet"
   ]
  },
  {
   "cell_type": "code",
   "execution_count": null,
   "metadata": {},
   "outputs": [],
   "source": [
    "model = DiscreteFlowMatchingNet.load_from_checkpoint(\n",
    "    \"../flow-matching-tiny-stories/1pkkmee9/checkpoints/epoch=0-step=3000.ckpt\"\n",
    ")\n",
    "model.freeze()\n",
    "model.eval()\n",
    "model.to(dtype=torch.bfloat16, device=\"cuda:0\")\n",
    "model"
   ]
  },
  {
   "cell_type": "code",
   "execution_count": null,
   "metadata": {},
   "outputs": [],
   "source": [
    "with torch.inference_mode():\n",
    "    for t, samples in model.sample(\n",
    "        num_samples=1,\n",
    "        sequence_length=128,\n",
    "        num_sampling_steps=16,\n",
    "        yield_intermediate=True,\n",
    "    ):\n",
    "        texts = model.tokenizer.batch_decode(samples)\n",
    "\n",
    "        print(f\"Step {t}\")\n",
    "        for text in texts:\n",
    "            print(text)"
   ]
  },
  {
   "cell_type": "code",
   "execution_count": null,
   "metadata": {},
   "outputs": [],
   "source": []
  }
 ],
 "metadata": {
  "kernelspec": {
   "display_name": ".venv",
   "language": "python",
   "name": "python3"
  },
  "language_info": {
   "codemirror_mode": {
    "name": "ipython",
    "version": 3
   },
   "file_extension": ".py",
   "mimetype": "text/x-python",
   "name": "python",
   "nbconvert_exporter": "python",
   "pygments_lexer": "ipython3",
   "version": "3.12.5"
  }
 },
 "nbformat": 4,
 "nbformat_minor": 2
}
